{
  "nbformat": 4,
  "nbformat_minor": 0,
  "metadata": {
    "colab": {
      "provenance": [],
      "authorship_tag": "ABX9TyMRjkNuwXAeBnwjzoUv5XpR",
      "include_colab_link": true
    },
    "kernelspec": {
      "name": "python3",
      "display_name": "Python 3"
    },
    "language_info": {
      "name": "python"
    }
  },
  "cells": [
    {
      "cell_type": "markdown",
      "metadata": {
        "id": "view-in-github",
        "colab_type": "text"
      },
      "source": [
        "<a href=\"https://colab.research.google.com/github/BigDesigner/WARP-Plus-Key-Collector/blob/main/Warp-plus-key-collector.ipynb\" target=\"_parent\"><img src=\"https://colab.research.google.com/assets/colab-badge.svg\" alt=\"Open In Colab\"/></a>"
      ]
    },
    {
      "cell_type": "code",
      "execution_count": null,
      "metadata": {
        "id": "XNeqpjK2be9j"
      },
      "outputs": [],
      "source": [
        "import requests\n",
        "from bs4 import BeautifulSoup\n",
        "from collections import defaultdict\n",
        "from datetime import datetime\n",
        "\n",
        "# Telegram channel pages\n",
        "urls = [\n",
        "    'https://t.me/s/warpplus',\n",
        "    'https://t.me/s/warppluscn',\n",
        "    'https://t.me/s/warpPlusHome',\n",
        "    'https://t.me/s/warp_veyke'\n",
        "]\n",
        "\n",
        "# A dictionary that groups keys by timestamps\n",
        "keys_by_url = defaultdict(lambda: defaultdict(list))\n",
        "\n",
        "# Loop through each URL\n",
        "for url in urls:\n",
        "    # Fetch the HTML content of the page\n",
        "    response = requests.get(url)\n",
        "    html_content = response.text\n",
        "\n",
        "    # Analyze the HTML content with BeautifulSoup\n",
        "    soup = BeautifulSoup(html_content, 'html.parser')\n",
        "\n",
        "    # Select <div> tags to find messages and timestamps\n",
        "    message_blocks = soup.find_all('div', class_='tgme_widget_message')\n",
        "\n",
        "    # Get the timestamp and keys for each message block\n",
        "    for message in message_blocks:\n",
        "        # Get the timestamp\n",
        "        timestamp = message.find('time')\n",
        "        if timestamp:\n",
        "            # Create date and time information\n",
        "            timestamp_text = timestamp['datetime']  # Using the \"datetime\" attribute\n",
        "            timestamp_date = datetime.fromisoformat(timestamp_text).strftime('%Y-%m-%d %H:%M')\n",
        "        else:\n",
        "            timestamp_date = \"Unknown\"\n",
        "\n",
        "        # Select <code> tags to find keys\n",
        "        code_elements = message.find_all('code')\n",
        "        keys = [code.text for code in code_elements]\n",
        "\n",
        "        # If there are keys, add them to the list with the timestamp\n",
        "        if keys:\n",
        "            for key in keys:\n",
        "                keys_by_url[url][timestamp_date].append(key)\n",
        "\n",
        "# Write the keys to a file\n",
        "file_path = '/content/keys.txt'\n",
        "with open(file_path, 'w') as file:\n",
        "    for url, timestamp_keys in keys_by_url.items():\n",
        "        file.write(f\"URL: {url}\\n\")  # Write the URL\n",
        "        # Sort the timestamps in descending order\n",
        "        for timestamp in sorted(timestamp_keys.keys(), reverse=True):\n",
        "            keys = timestamp_keys[timestamp]\n",
        "            file.write(f\"{timestamp}\\n\")  # Write the date and time\n",
        "            for key in keys:\n",
        "                file.write(f\"Key: {key}\\n\")  # Write the keys\n",
        "        file.write(\"\\n\")  # Add a blank line\n",
        "\n",
        "# Create a link to download the files \n",
        "from google.colab import files\n",
        "files.download(file_path)"
      ]
    }
  ]
}
